{
 "cells": [
  {
   "cell_type": "code",
   "execution_count": 374,
   "metadata": {},
   "outputs": [],
   "source": [
    "import numpy as np\n",
    "import pandas as pd\n",
    "import matplotlib.pyplot as plt\n",
    "from PIL import Image\n",
    "\n",
    "import os\n",
    "\n",
    "from sklearn.model_selection import train_test_split\n",
    "from sklearn.neighbors import KNeighborsClassifier\n",
    "from sklearn.metrics import confusion_matrix"
   ]
  },
  {
   "cell_type": "code",
   "execution_count": 375,
   "metadata": {},
   "outputs": [],
   "source": [
    "donnees_images_totales = []\n",
    "output_value = []\n",
    "liste_des_images_binaire_finales = []\n",
    "dataset = []"
   ]
  },
  {
   "cell_type": "code",
   "execution_count": 376,
   "metadata": {},
   "outputs": [],
   "source": [
    "repertoire_images = r\"c:\\Users\\matis\\Documents\\myProject\\MethodesOptimisationBUT\\TP\\data\\Digits\"\n",
    "liste_digits = os.listdir(repertoire_images)\n",
    "\n",
    "donnees_images_totales = []\n",
    "\n",
    "for i in range(len(liste_digits)):\n",
    "    chemin_image = repertoire_images + \"\\\\\" + liste_digits[i]\n",
    "    image = Image.open(chemin_image)\n",
    "    rezise_image = image.resize((64, 64)) # on resize les images afin qu'elles aient toutes le même formats les unes les autres et pour avoir un nombre de pixel moins important\n",
    "    donnees_image = list(rezise_image.getdata()) # la data de l'image correspond a la couleur de chaque pixel présent sur l'image\n",
    "    donnees_images_totales.append(donnees_image)\n"
   ]
  },
  {
   "cell_type": "code",
   "execution_count": 377,
   "metadata": {},
   "outputs": [
    {
     "name": "stdout",
     "output_type": "stream",
     "text": [
      "111\n"
     ]
    }
   ],
   "source": [
    "nbImages = len(liste_digits)\n",
    "print(nbImages)\n",
    "\n",
    "longBinImg = len(donnees_image)\n",
    "print(longBinImg)"
   ]
  },
  {
   "cell_type": "code",
   "execution_count": 378,
   "metadata": {},
   "outputs": [],
   "source": [
    "for j in range(nbImages):\n",
    "    liste_des_images = []\n",
    "    for i in range(longBinImg):\n",
    "        iPixel = donnees_images_totales[j][i] # ressemble a ça => (255,255,255,255)\n",
    "        couleur = 0 # on attribue la valeur 0 pour un pixel blanc\n",
    "        if iPixel[0] != 255:\n",
    "            couleur = 1 # on attribu la valeur 1 pour un pixel non blanc\n",
    "        liste_des_images.append(couleur)\n",
    "    liste_des_images_binaire_finales.append(liste_des_images)"
   ]
  },
  {
   "cell_type": "code",
   "execution_count": 379,
   "metadata": {},
   "outputs": [
    {
     "name": "stdout",
     "output_type": "stream",
     "text": [
      "104\n",
      "112\n",
      "103\n",
      "103\n",
      "111\n",
      "112\n",
      "102\n",
      "95\n",
      "100\n",
      "122\n",
      "198\n",
      "87\n",
      "80\n",
      "87\n",
      "86\n",
      "85\n",
      "74\n",
      "81\n",
      "78\n",
      "82\n",
      "90\n",
      "184\n",
      "85\n",
      "115\n",
      "74\n",
      "104\n",
      "99\n",
      "108\n",
      "91\n",
      "101\n",
      "105\n",
      "87\n",
      "200\n",
      "54\n",
      "73\n",
      "62\n",
      "68\n",
      "67\n",
      "68\n",
      "87\n",
      "69\n",
      "58\n",
      "65\n",
      "175\n",
      "79\n",
      "73\n",
      "93\n",
      "87\n",
      "95\n",
      "90\n",
      "83\n",
      "91\n",
      "78\n",
      "93\n",
      "159\n",
      "84\n",
      "76\n",
      "80\n",
      "71\n",
      "83\n",
      "99\n",
      "113\n",
      "110\n",
      "113\n",
      "108\n",
      "158\n",
      "88\n",
      "77\n",
      "80\n",
      "87\n",
      "75\n",
      "82\n",
      "69\n",
      "89\n",
      "84\n",
      "70\n",
      "72\n",
      "181\n",
      "77\n",
      "103\n",
      "73\n",
      "77\n",
      "75\n",
      "88\n",
      "95\n",
      "90\n",
      "77\n",
      "75\n",
      "199\n",
      "120\n",
      "89\n",
      "104\n",
      "112\n",
      "105\n",
      "111\n",
      "125\n",
      "126\n",
      "99\n",
      "114\n",
      "255\n",
      "93\n",
      "88\n",
      "89\n",
      "80\n",
      "81\n",
      "85\n",
      "95\n",
      "84\n",
      "129\n",
      "106\n",
      "198\n"
     ]
    }
   ],
   "source": [
    "# le nombre de pixels de couleur noir (différents de blanc plus précisément) sur l'écran\n",
    "for i in range(len(liste_des_images_binaire_finales)):\n",
    "     print(liste_des_images_binaire_finales[i].count(1))"
   ]
  },
  {
   "cell_type": "code",
   "execution_count": 380,
   "metadata": {},
   "outputs": [
    {
     "name": "stdout",
     "output_type": "stream",
     "text": [
      "['0', '0', '0', '0', '0', '0', '0', '0', '0', '0', '0', '1', '1', '1', '1', '1', '1', '1', '1', '1', '1', '1', '2', '2', '2', '2', '2', '2', '2', '2', '2', '2', '2', '3', '3', '3', '3', '3', '3', '3', '3', '3', '3', '3', '4', '4', '4', '4', '4', '4', '4', '4', '4', '4', '4', '5', '5', '5', '5', '5', '5', '5', '5', '5', '5', '5', '6', '6', '6', '6', '6', '6', '6', '6', '6', '6', '6', '6', '7', '7', '7', '7', '7', '7', '7', '7', '7', '7', '7', '8', '8', '8', '8', '8', '8', '8', '8', '8', '8', '8', '9', '9', '9', '9', '9', '9', '9', '9', '9', '9', '9']\n"
     ]
    }
   ],
   "source": [
    "# on vérifie l'output final de chaque image\n",
    "for i in range(nbImages):\n",
    "    imageI = liste_digits[i].split(\"-\")\n",
    "    output_value.append(imageI[1][0])\n",
    "print(output_value)"
   ]
  },
  {
   "cell_type": "code",
   "execution_count": 384,
   "metadata": {},
   "outputs": [],
   "source": [
    "liste_random_state = []\n",
    "liste_scores = []\n",
    "\n",
    "# prends plusieurs minutes en fonction de vos composants (ça m'a pris 1m13s)\n",
    "for i in range(1,100):\n",
    "    # on test différent algo\n",
    "    X_train, x_test, y_train, y_test = train_test_split(\n",
    "        liste_des_images_binaire_finales,\n",
    "        output_value,\n",
    "        test_size=0.2,\n",
    "        random_state=i\n",
    "    )\n",
    "    # sur ces algos on regarde sur un nombre de voisins qui varie\n",
    "    for j in range(1,50):\n",
    "        knn = KNeighborsClassifier(n_neighbors=j)\n",
    "        knn.fit(X_train, y_train)\n",
    "        score = knn.score(x_test, y_test)\n",
    "        liste_scores.append(score)"
   ]
  },
  {
   "cell_type": "code",
   "execution_count": 388,
   "metadata": {},
   "outputs": [
    {
     "data": {
      "text/plain": [
       "0.9130434782608695"
      ]
     },
     "execution_count": 388,
     "metadata": {},
     "output_type": "execute_result"
    }
   ],
   "source": [
    "# le meilleur que l'on obtient en parcourant le random state de 1 a 99 et les voisins de 1 a 49 par random state\n",
    "max(liste_scores)"
   ]
  }
 ],
 "metadata": {
  "kernelspec": {
   "display_name": "Python 3",
   "language": "python",
   "name": "python3"
  },
  "language_info": {
   "codemirror_mode": {
    "name": "ipython",
    "version": 3
   },
   "file_extension": ".py",
   "mimetype": "text/x-python",
   "name": "python",
   "nbconvert_exporter": "python",
   "pygments_lexer": "ipython3",
   "version": "3.11.7"
  }
 },
 "nbformat": 4,
 "nbformat_minor": 2
}
